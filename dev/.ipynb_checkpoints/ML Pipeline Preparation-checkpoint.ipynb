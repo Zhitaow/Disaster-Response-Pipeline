{
 "cells": [
  {
   "cell_type": "markdown",
   "metadata": {},
   "source": [
    "# ML Pipeline Preparation\n",
    "Follow the instructions below to help you create your ML pipeline.\n",
    "### 1. Import libraries and load data from database.\n",
    "- Import Python libraries\n",
    "- Load dataset from database with [`read_sql_table`](https://pandas.pydata.org/pandas-docs/stable/generated/pandas.read_sql_table.html)\n",
    "- Define feature and target variables X and Y"
   ]
  },
  {
   "cell_type": "code",
   "execution_count": 1,
   "metadata": {},
   "outputs": [
    {
     "name": "stdout",
     "output_type": "stream",
     "text": [
      "[nltk_data] Downloading package punkt to\n",
      "[nltk_data]     /Users/zhitao.wang/nltk_data...\n",
      "[nltk_data]   Package punkt is already up-to-date!\n",
      "[nltk_data] Downloading package wordnet to\n",
      "[nltk_data]     /Users/zhitao.wang/nltk_data...\n",
      "[nltk_data]   Package wordnet is already up-to-date!\n"
     ]
    },
    {
     "data": {
      "text/plain": [
       "True"
      ]
     },
     "execution_count": 1,
     "metadata": {},
     "output_type": "execute_result"
    }
   ],
   "source": [
    "# import libraries\n",
    "import pandas as pd\n",
    "import numpy as np\n",
    "import sqlite3\n",
    "import re\n",
    "import pickle\n",
    "import nltk\n",
    "from nltk.corpus import stopwords\n",
    "from nltk.tokenize import word_tokenize\n",
    "from nltk.stem import WordNetLemmatizer\n",
    "from sklearn.feature_extraction.text import CountVectorizer\n",
    "from sklearn.feature_extraction.text import TfidfTransformer\n",
    "from sklearn.feature_extraction.text import TfidfVectorizer\n",
    "from sklearn.metrics import confusion_matrix\n",
    "from sklearn.model_selection import train_test_split\n",
    "from sklearn.ensemble import RandomForestClassifier, GradientBoostingClassifier\n",
    "from sklearn.svm import SVC, LinearSVC\n",
    "from sklearn.multioutput import MultiOutputClassifier\n",
    "from sklearn.metrics import accuracy_score, f1_score, precision_score, recall_score, classification_report, make_scorer\n",
    "from sklearn.pipeline import Pipeline, FeatureUnion\n",
    "from sklearn.model_selection import GridSearchCV, cross_val_score\n",
    "from sklearn.preprocessing import StandardScaler\n",
    "\n",
    "nltk.download('punkt')\n",
    "nltk.download('wordnet')"
   ]
  },
  {
   "cell_type": "code",
   "execution_count": 2,
   "metadata": {},
   "outputs": [
    {
     "name": "stdout",
     "output_type": "stream",
     "text": [
      "Opening connection.\n",
      "Reading data from table \"msg_cat\" in the database \"figure_eight.db\".\n",
      "Connection is closed.\n"
     ]
    }
   ],
   "source": [
    "# load data from database\n",
    "#engine = create_engine('sqlite:///InsertDatabaseName.db')\n",
    "db_name = 'figure_eight.db' \n",
    "tbl_name = 'msg_cat'\n",
    "print('Opening connection.')\n",
    "conn = sqlite3.connect(db_name)\n",
    "# get a cursor\n",
    "cur = conn.cursor()\n",
    "cmd = \"SELECT * FROM \" + tbl_name\n",
    "print('Reading data from table \"{}\" in the database \"{}\".'.format(tbl_name, db_name))\n",
    "df = pd.read_sql(cmd, con = conn)\n",
    "df.set_index('id', inplace = True)\n",
    "#df = pd.read_sql_table(tbl_name, con = conn)\n",
    "conn.commit()\n",
    "conn.close()\n",
    "print('Connection is closed.')\n",
    "feature_columns = ['message', 'original', 'genre']\n",
    "X = df[['message']]\n",
    "y = df.drop(labels = feature_columns, axis = 1)"
   ]
  },
  {
   "cell_type": "markdown",
   "metadata": {},
   "source": [
    "### 2. Write a tokenization function to process your text data"
   ]
  },
  {
   "cell_type": "code",
   "execution_count": 3,
   "metadata": {},
   "outputs": [],
   "source": [
    "def tokenize(text):\n",
    "    ''' Usage: normalize case and remove punctuation\n",
    "        Input: text string\n",
    "    ''' \n",
    "    text = re.sub(r\"[^a-zA-Z]\", \" \", text.lower())\n",
    "    \n",
    "    # tokenize text\n",
    "    tokens = word_tokenize(text)\n",
    "    \n",
    "    # Remove stop words\n",
    "    tokens = [w for w in tokens if w not in stopwords.words(\"english\")]\n",
    "    \n",
    "    # Reduce words to their root form\n",
    "    tokens = [WordNetLemmatizer().lemmatize(token).strip() for token in tokens]\n",
    "\n",
    "    return tokens"
   ]
  },
  {
   "cell_type": "markdown",
   "metadata": {},
   "source": [
    "### 3. Build a machine learning pipeline\n",
    "- You'll find the [MultiOutputClassifier](http://scikit-learn.org/stable/modules/generated/sklearn.multioutput.MultiOutputClassifier.html) helpful for predicting multiple target variables."
   ]
  },
  {
   "cell_type": "code",
   "execution_count": 4,
   "metadata": {},
   "outputs": [],
   "source": [
    "def show_metrics(y_test, y_pred, target_names, metrics = 'f1'):\n",
    "    '''\n",
    "        Usage: show metrics with options of accuracy, f1, precision, recall scores.\n",
    "        Input: y_test, y_pred - actual label values, predicted labels\n",
    "               target_names - a list of labels\n",
    "               metrics - available options ['accuracy', 'f1', 'precision', 'recall']\n",
    "                         other option: show f1, precision, recall all together.\n",
    "    '''\n",
    "    for idx_col in range(y_test.shape[1]):\n",
    "        if metrics == 'accuracy':\n",
    "            # accuracy score\n",
    "            print(\"The accuracy score for column {}: {}\" \\\n",
    "                  .format(target_names[idx_col], accuracy_score(y_test[:, idx_col], y_pred[:, idx_col])))\n",
    "        elif metrics == 'f1':\n",
    "            # f1 score\n",
    "            print(\"The f1 score for column {}: {}\" \\\n",
    "                  .format(target_names[idx_col], f1_score(y_test[:, idx_col], y_pred[:, idx_col])))\n",
    "        elif metrics == 'precision':\n",
    "            # precision\n",
    "            print(\"The precision score for column {}: {}\" \\\n",
    "                  .format(target_names[idx_col], precision_score(y_test[:, idx_col], y_pred[:, idx_col])))\n",
    "        elif metrics == 'recall':\n",
    "            # precision\n",
    "            print(\"The recall score for column {}: {}\" \\\n",
    "                  .format(target_names[idx_col], recall_score(y_test[:, idx_col], y_pred[:, idx_col])))\n",
    "        else:\n",
    "            print(classification_report(y_test, y_pred, target_names = target_names))\n",
    "            break\n",
    "            "
   ]
  },
  {
   "cell_type": "code",
   "execution_count": 5,
   "metadata": {},
   "outputs": [],
   "source": [
    "pipeline = Pipeline([\n",
    "    ('features', FeatureUnion([\n",
    "        ('text_pipeline', Pipeline([\n",
    "            ('vect', CountVectorizer(tokenizer=tokenize)),\n",
    "            ('tfidf', TfidfTransformer())\n",
    "        ]))\n",
    "    ])),\n",
    "    ('clf', MultiOutputClassifier(RandomForestClassifier()))\n",
    "])"
   ]
  },
  {
   "cell_type": "markdown",
   "metadata": {},
   "source": [
    "### 4. Train pipeline\n",
    "- Split data into train and test sets\n",
    "- Train pipeline"
   ]
  },
  {
   "cell_type": "code",
   "execution_count": 6,
   "metadata": {},
   "outputs": [
    {
     "data": {
      "text/plain": [
       "Pipeline(memory=None,\n",
       "     steps=[('features', FeatureUnion(n_jobs=1,\n",
       "       transformer_list=[('text_pipeline', Pipeline(memory=None,\n",
       "     steps=[('vect', CountVectorizer(analyzer='word', binary=False, decode_error='strict',\n",
       "        dtype=<class 'numpy.int64'>, encoding='utf-8', input='content',\n",
       "        lowercase=True, max_d...oob_score=False, random_state=None, verbose=0,\n",
       "            warm_start=False),\n",
       "           n_jobs=1))])"
      ]
     },
     "execution_count": 6,
     "metadata": {},
     "output_type": "execute_result"
    }
   ],
   "source": [
    "X_train, X_test, y_train, y_test = train_test_split(X.message, y.values, test_size = 0.3, random_state = 42)\n",
    "pipeline.fit(X_train, y_train)"
   ]
  },
  {
   "cell_type": "markdown",
   "metadata": {},
   "source": [
    "### 5. Test your model\n",
    "Report the f1 score, precision and recall on both the training set and the test set. You can use sklearn's `classification_report` function here. "
   ]
  },
  {
   "cell_type": "code",
   "execution_count": 7,
   "metadata": {},
   "outputs": [
    {
     "name": "stdout",
     "output_type": "stream",
     "text": [
      "Predicting results.\n",
      "                        precision    recall  f1-score   support\n",
      "\n",
      "               related       0.84      0.92      0.88      5941\n",
      "               request       0.78      0.46      0.58      1333\n",
      "                 offer       0.00      0.00      0.00        34\n",
      "           aid_related       0.74      0.60      0.67      3286\n",
      "          medical_help       0.57      0.09      0.16       644\n",
      "      medical_products       0.71      0.07      0.12       414\n",
      "     search_and_rescue       0.76      0.07      0.12       239\n",
      "              security       0.25      0.01      0.01       156\n",
      "              military       0.62      0.10      0.17       267\n",
      "           child_alone       0.00      0.00      0.00         0\n",
      "                 water       0.90      0.28      0.42       512\n",
      "                  food       0.82      0.44      0.57       878\n",
      "               shelter       0.80      0.33      0.46       714\n",
      "              clothing       0.74      0.11      0.20       123\n",
      "                 money       0.75      0.05      0.09       192\n",
      "        missing_people       0.00      0.00      0.00        88\n",
      "              refugees       0.62      0.10      0.17       259\n",
      "                 death       0.76      0.18      0.30       369\n",
      "             other_aid       0.46      0.05      0.09      1021\n",
      "infrastructure_related       0.26      0.01      0.02       521\n",
      "             transport       0.70      0.10      0.17       362\n",
      "             buildings       0.72      0.08      0.14       430\n",
      "           electricity       0.67      0.05      0.10       148\n",
      "                 tools       0.00      0.00      0.00        46\n",
      "             hospitals       0.00      0.00      0.00        90\n",
      "                 shops       0.00      0.00      0.00        39\n",
      "           aid_centers       0.00      0.00      0.00        86\n",
      "  other_infrastructure       0.11      0.00      0.01       350\n",
      "       weather_related       0.84      0.64      0.73      2188\n",
      "                floods       0.87      0.32      0.47       639\n",
      "                 storm       0.79      0.45      0.57       744\n",
      "                  fire       0.25      0.01      0.02        88\n",
      "            earthquake       0.88      0.73      0.79       734\n",
      "                  cold       0.96      0.14      0.25       169\n",
      "         other_weather       0.52      0.03      0.06       388\n",
      "         direct_report       0.74      0.31      0.44      1547\n",
      "\n",
      "           avg / total       0.74      0.49      0.54     25039\n",
      "\n"
     ]
    },
    {
     "name": "stderr",
     "output_type": "stream",
     "text": [
      "/Users/zhitao.wang/Applications/anaconda3/lib/python3.6/site-packages/sklearn/metrics/classification.py:1135: UndefinedMetricWarning: Precision and F-score are ill-defined and being set to 0.0 in labels with no predicted samples.\n",
      "  'precision', 'predicted', average, warn_for)\n",
      "/Users/zhitao.wang/Applications/anaconda3/lib/python3.6/site-packages/sklearn/metrics/classification.py:1137: UndefinedMetricWarning: Recall and F-score are ill-defined and being set to 0.0 in labels with no true samples.\n",
      "  'recall', 'true', average, warn_for)\n"
     ]
    }
   ],
   "source": [
    "print('Predicting results.')\n",
    "y_pred = pipeline.predict(X_test)\n",
    "show_metrics(y_test, y_pred, y.columns, metrics = 'other')"
   ]
  },
  {
   "cell_type": "markdown",
   "metadata": {},
   "source": [
    "### 6. Improve your model\n",
    "Use grid search to find better parameters. "
   ]
  },
  {
   "cell_type": "code",
   "execution_count": 9,
   "metadata": {},
   "outputs": [
    {
     "data": {
      "text/plain": [
       "GridSearchCV(cv=None, error_score='raise',\n",
       "       estimator=Pipeline(memory=None,\n",
       "     steps=[('features', FeatureUnion(n_jobs=1,\n",
       "       transformer_list=[('text_pipeline', Pipeline(memory=None,\n",
       "     steps=[('vect', CountVectorizer(analyzer='word', binary=False, decode_error='strict',\n",
       "        dtype=<class 'numpy.int64'>, encoding='utf-8', input='content',\n",
       "        lowercase=True, max_d...oob_score=False, random_state=None, verbose=0,\n",
       "            warm_start=False),\n",
       "           n_jobs=1))]),\n",
       "       fit_params=None, iid=True, n_jobs=2,\n",
       "       param_grid={'features__text_pipeline__vect__max_df': [0.2, 1], 'features__text_pipeline__vect__max_features': [3000, 5000], 'clf__estimator__n_estimators': [50, 200], 'clf__estimator__n_jobs': [2]},\n",
       "       pre_dispatch='2*n_jobs', refit=True, return_train_score='warn',\n",
       "       scoring=None, verbose=0)"
      ]
     },
     "execution_count": 9,
     "metadata": {},
     "output_type": "execute_result"
    }
   ],
   "source": [
    "parameters = {\n",
    "    'features__text_pipeline__vect__max_df': [0.2, 1],\n",
    "    'features__text_pipeline__vect__max_features': [3000, 5000],\n",
    "    'clf__estimator__n_estimators': [50, 200],\n",
    "    #'clf__estimator__max_features': ['sqrt'],\n",
    "    'clf__estimator__n_jobs': [2],\n",
    "}\n",
    "\n",
    "best_clf = GridSearchCV(pipeline, param_grid=parameters, n_jobs = 2)\n",
    "best_clf.fit(X_train, y_train)"
   ]
  },
  {
   "cell_type": "code",
   "execution_count": 10,
   "metadata": {},
   "outputs": [
    {
     "data": {
      "text/plain": [
       "{'clf__estimator__n_estimators': 200,\n",
       " 'clf__estimator__n_jobs': 2,\n",
       " 'features__text_pipeline__vect__max_df': 0.2,\n",
       " 'features__text_pipeline__vect__max_features': 5000}"
      ]
     },
     "execution_count": 10,
     "metadata": {},
     "output_type": "execute_result"
    }
   ],
   "source": [
    "best_clf.best_params_"
   ]
  },
  {
   "cell_type": "markdown",
   "metadata": {},
   "source": [
    "### 7. Test your model\n",
    "Show the accuracy, precision, and recall of the tuned model."
   ]
  },
  {
   "cell_type": "code",
   "execution_count": 11,
   "metadata": {},
   "outputs": [
    {
     "name": "stdout",
     "output_type": "stream",
     "text": [
      "                        precision    recall  f1-score   support\n",
      "\n",
      "               related       0.85      0.94      0.89      6072\n",
      "               request       0.81      0.50      0.62      1356\n",
      "                 offer       1.00      0.03      0.05        37\n",
      "           aid_related       0.75      0.71      0.73      3312\n",
      "          medical_help       0.61      0.13      0.22       616\n",
      "      medical_products       0.85      0.18      0.30       369\n",
      "     search_and_rescue       0.74      0.11      0.19       212\n",
      "              security       0.00      0.00      0.00       144\n",
      "              military       0.60      0.09      0.16       257\n",
      "           child_alone       0.00      0.00      0.00         0\n",
      "                 water       0.88      0.55      0.68       492\n",
      "                  food       0.82      0.71      0.76       894\n",
      "               shelter       0.79      0.50      0.61       713\n",
      "              clothing       0.92      0.20      0.32       122\n",
      "                 money       0.62      0.03      0.05       188\n",
      "        missing_people       1.00      0.02      0.05        86\n",
      "              refugees       0.70      0.12      0.20       270\n",
      "                 death       0.83      0.34      0.49       359\n",
      "             other_aid       0.62      0.06      0.11      1020\n",
      "infrastructure_related       0.22      0.01      0.02       502\n",
      "             transport       0.70      0.14      0.23       361\n",
      "             buildings       0.82      0.22      0.34       403\n",
      "           electricity       0.75      0.08      0.14       152\n",
      "                 tools       0.00      0.00      0.00        60\n",
      "             hospitals       0.00      0.00      0.00        81\n",
      "                 shops       0.00      0.00      0.00        33\n",
      "           aid_centers       0.00      0.00      0.00        95\n",
      "  other_infrastructure       0.29      0.01      0.01       343\n",
      "       weather_related       0.85      0.75      0.80      2203\n",
      "                floods       0.89      0.53      0.67       661\n",
      "                 storm       0.79      0.64      0.71       760\n",
      "                  fire       1.00      0.03      0.07        88\n",
      "            earthquake       0.90      0.82      0.86       737\n",
      "                  cold       0.75      0.13      0.22       140\n",
      "         other_weather       0.62      0.07      0.12       420\n",
      "         direct_report       0.78      0.39      0.52      1550\n",
      "\n",
      "           avg / total       0.77      0.57      0.61     25108\n",
      "\n"
     ]
    },
    {
     "name": "stderr",
     "output_type": "stream",
     "text": [
      "/Users/zhitao.wang/Applications/anaconda3/lib/python3.6/site-packages/sklearn/metrics/classification.py:1135: UndefinedMetricWarning: Precision and F-score are ill-defined and being set to 0.0 in labels with no predicted samples.\n",
      "  'precision', 'predicted', average, warn_for)\n",
      "/Users/zhitao.wang/Applications/anaconda3/lib/python3.6/site-packages/sklearn/metrics/classification.py:1137: UndefinedMetricWarning: Recall and F-score are ill-defined and being set to 0.0 in labels with no true samples.\n",
      "  'recall', 'true', average, warn_for)\n"
     ]
    }
   ],
   "source": [
    "y_pred = best_clf.predict(X_test)\n",
    "show_metrics(y_test, y_pred, y.columns, metrics = 'other')"
   ]
  },
  {
   "cell_type": "markdown",
   "metadata": {},
   "source": [
    "### 8. Try improving your model further. Here are a few ideas:\n",
    "* try other machine learning algorithms\n",
    "* add other features besides the TF-IDF"
   ]
  },
  {
   "cell_type": "markdown",
   "metadata": {},
   "source": [
    "Many literatures suggest linear SVC model is a good choice when using the bag-of-word model. However, one need to check that each label column contain two classes, 0 or 1, to avoid error raised by the SVC algorithm. From ETL analysis, we already knew that **child_alone** only contains 0, which shall be removed prior to feeding into the model."
   ]
  },
  {
   "cell_type": "code",
   "execution_count": 46,
   "metadata": {},
   "outputs": [],
   "source": [
    "# drop child_alone category in the label set\n",
    "y_ = y.drop(labels = 'child_alone', axis = 1)\n",
    "X_train, X_test, y_train, y_test = train_test_split(X.message, y_.values, test_size = 0.3, random_state = 42)"
   ]
  },
  {
   "cell_type": "code",
   "execution_count": 65,
   "metadata": {},
   "outputs": [],
   "source": [
    "pipeline = Pipeline([\n",
    "    ('features', FeatureUnion([\n",
    "        ('text_pipeline', Pipeline([\n",
    "            ('vect', CountVectorizer(tokenizer=tokenize)),\n",
    "            ('tfidf', TfidfTransformer())\n",
    "        ]))\n",
    "    ])),\n",
    "    ('clf', MultiOutputClassifier(LinearSVC()))\n",
    "])"
   ]
  },
  {
   "cell_type": "code",
   "execution_count": 70,
   "metadata": {},
   "outputs": [
    {
     "data": {
      "text/plain": [
       "GridSearchCV(cv=None, error_score='raise',\n",
       "       estimator=Pipeline(memory=None,\n",
       "     steps=[('features', FeatureUnion(n_jobs=1,\n",
       "       transformer_list=[('text_pipeline', Pipeline(memory=None,\n",
       "     steps=[('vect', CountVectorizer(analyzer='word', binary=False, decode_error='strict',\n",
       "        dtype=<class 'numpy.int64'>, encoding='utf-8', input='content',\n",
       "        lowercase=True, max_d...ti_class='ovr', penalty='l2', random_state=None, tol=0.0001,\n",
       "     verbose=0),\n",
       "           n_jobs=1))]),\n",
       "       fit_params=None, iid=True, n_jobs=2,\n",
       "       param_grid={'features__text_pipeline__vect__max_df': [0.2, 1], 'features__text_pipeline__vect__max_features': [None, 3000, 5000], 'clf__estimator__C': [0.5, 1.0, 1.5], 'clf__estimator__intercept_scaling': [0.5, 1, 1.5]},\n",
       "       pre_dispatch='2*n_jobs', refit=True, return_train_score='warn',\n",
       "       scoring=None, verbose=0)"
      ]
     },
     "execution_count": 70,
     "metadata": {},
     "output_type": "execute_result"
    }
   ],
   "source": [
    "parameters = {\n",
    "    'features__text_pipeline__vect__max_df': [0.2, 1],\n",
    "    'features__text_pipeline__vect__max_features': [None, 3000, 5000],\n",
    "    'clf__estimator__C': [0.5, 1.0, 1.5],\n",
    "    'clf__estimator__intercept_scaling': [0.5, 1, 1.5]\n",
    "}\n",
    "\n",
    "scorer = make_scorer(f1_score)\n",
    "best_clf = GridSearchCV(pipeline, param_grid=parameters, n_jobs = 2)\n",
    "best_clf.fit(X_train, y_train)"
   ]
  },
  {
   "cell_type": "code",
   "execution_count": 71,
   "metadata": {},
   "outputs": [
    {
     "data": {
      "text/plain": [
       "{'clf__estimator__C': 0.5,\n",
       " 'clf__estimator__intercept_scaling': 1.5,\n",
       " 'features__text_pipeline__vect__max_df': 0.2,\n",
       " 'features__text_pipeline__vect__max_features': None}"
      ]
     },
     "execution_count": 71,
     "metadata": {},
     "output_type": "execute_result"
    }
   ],
   "source": [
    "best_clf.best_params_"
   ]
  },
  {
   "cell_type": "code",
   "execution_count": 72,
   "metadata": {},
   "outputs": [
    {
     "name": "stdout",
     "output_type": "stream",
     "text": [
      "                        precision    recall  f1-score   support\n",
      "\n",
      "               related       0.86      0.91      0.89      6072\n",
      "               request       0.76      0.58      0.66      1356\n",
      "                 offer       1.00      0.03      0.05        37\n",
      "           aid_related       0.72      0.68      0.70      3312\n",
      "          medical_help       0.59      0.27      0.37       616\n",
      "      medical_products       0.70      0.32      0.44       369\n",
      "     search_and_rescue       0.66      0.14      0.23       212\n",
      "              security       0.00      0.00      0.00       144\n",
      "              military       0.62      0.31      0.41       257\n",
      "           child_alone       0.74      0.63      0.68       492\n",
      "                 water       0.83      0.71      0.77       894\n",
      "                  food       0.78      0.55      0.65       713\n",
      "               shelter       0.77      0.40      0.53       122\n",
      "              clothing       0.61      0.16      0.26       188\n",
      "                 money       0.71      0.17      0.28        86\n",
      "        missing_people       0.71      0.24      0.36       270\n",
      "              refugees       0.79      0.50      0.61       359\n",
      "                 death       0.45      0.20      0.28      1020\n",
      "             other_aid       0.40      0.09      0.15       502\n",
      "infrastructure_related       0.75      0.25      0.38       361\n",
      "             transport       0.65      0.39      0.49       403\n",
      "             buildings       0.67      0.28      0.39       152\n",
      "           electricity       0.00      0.00      0.00        60\n",
      "                 tools       0.75      0.04      0.07        81\n",
      "             hospitals       0.00      0.00      0.00        33\n",
      "                 shops       0.17      0.01      0.02        95\n",
      "           aid_centers       0.37      0.06      0.11       343\n",
      "  other_infrastructure       0.82      0.72      0.77      2203\n",
      "       weather_related       0.85      0.54      0.66       661\n",
      "                floods       0.74      0.56      0.64       760\n",
      "                 storm       0.84      0.31      0.45        88\n",
      "                  fire       0.90      0.76      0.82       737\n",
      "            earthquake       0.70      0.38      0.49       140\n",
      "                  cold       0.42      0.12      0.19       420\n",
      "         other_weather       0.68      0.50      0.58      1550\n",
      "\n",
      "           avg / total       0.74      0.60      0.64     25108\n",
      "\n"
     ]
    },
    {
     "name": "stderr",
     "output_type": "stream",
     "text": [
      "/Users/zhitao.wang/Applications/anaconda3/lib/python3.6/site-packages/sklearn/metrics/classification.py:1428: UserWarning: labels size, 35, does not match size of target_names, 36\n",
      "  .format(len(labels), len(target_names))\n",
      "/Users/zhitao.wang/Applications/anaconda3/lib/python3.6/site-packages/sklearn/metrics/classification.py:1135: UndefinedMetricWarning: Precision and F-score are ill-defined and being set to 0.0 in labels with no predicted samples.\n",
      "  'precision', 'predicted', average, warn_for)\n"
     ]
    }
   ],
   "source": [
    "y_pred = pipeline.predict(X_test)\n",
    "show_metrics(y_test, y_pred, y.columns, metrics = 'other')"
   ]
  },
  {
   "cell_type": "markdown",
   "metadata": {},
   "source": [
    "### Discussion"
   ]
  },
  {
   "cell_type": "markdown",
   "metadata": {},
   "source": [
    "The key metrics is f1 scores, which has the following form:\n",
    "\n",
    "\\begin{align}\n",
    "\\frac{2\\times precision \\times recall} {precision + recall}\n",
    "\\end{align}\n",
    "\n",
    "Overall, the linear SVM model is slightly better than random forest, with f1 score of 0.64 for linear SVM and 0.61 for random forest. Another advantage for linear SVM is that its time for training and making prediction is much faster than a random forest classifier with 200 tree estimators. This is essential for the use case of real-time application. Based on above reasons, linear SVM model is adopted in my script of machine learning pipeline."
   ]
  },
  {
   "cell_type": "markdown",
   "metadata": {},
   "source": [
    "### 9. Export your model as a pickle file"
   ]
  },
  {
   "cell_type": "code",
   "execution_count": 75,
   "metadata": {},
   "outputs": [],
   "source": [
    "file = 'classifier.pkl'\n",
    "pickle.dump(best_clf, open(file, 'wb'))"
   ]
  },
  {
   "cell_type": "markdown",
   "metadata": {},
   "source": [
    "### 10. Use this notebook to complete `train.py`\n",
    "Use the template file attached in the Resources folder to write a script that runs the steps above to create a database and export a model based on a new dataset specified by the user."
   ]
  },
  {
   "cell_type": "code",
   "execution_count": 11,
   "metadata": {},
   "outputs": [
    {
     "name": "stdout",
     "output_type": "stream",
     "text": [
      "Loading data...\n",
      "    DATABASE: figure_eight.db\n",
      "Opening connection.\n",
      "Reading data from table \"msg_cat\" in the database \"figure_eight.db\".\n",
      "Connection is closed.\n",
      "Building model...\n",
      "Training model...\n",
      "Fitting 3 folds for each of 1 candidates, totalling 3 fits\n",
      "[CV] clf__estimator__C=0.5, clf__estimator__intercept_scaling=1.5, features__text_pipeline__vect__max_df=0.2, features__text_pipeline__vect__max_features=None \n",
      "[CV] clf__estimator__C=0.5, clf__estimator__intercept_scaling=1.5, features__text_pipeline__vect__max_df=0.2, features__text_pipeline__vect__max_features=None \n",
      "[CV]  clf__estimator__C=0.5, clf__estimator__intercept_scaling=1.5, features__text_pipeline__vect__max_df=0.2, features__text_pipeline__vect__max_features=None, total= 1.1min\n",
      "[CV] clf__estimator__C=0.5, clf__estimator__intercept_scaling=1.5, features__text_pipeline__vect__max_df=0.2, features__text_pipeline__vect__max_features=None \n",
      "[CV]  clf__estimator__C=0.5, clf__estimator__intercept_scaling=1.5, features__text_pipeline__vect__max_df=0.2, features__text_pipeline__vect__max_features=None, total= 1.4min\n",
      "[CV]  clf__estimator__C=0.5, clf__estimator__intercept_scaling=1.5, features__text_pipeline__vect__max_df=0.2, features__text_pipeline__vect__max_features=None, total= 1.1min\n"
     ]
    },
    {
     "name": "stderr",
     "output_type": "stream",
     "text": [
      "[Parallel(n_jobs=2)]: Done   3 out of   3 | elapsed:  3.6min finished\n"
     ]
    },
    {
     "name": "stdout",
     "output_type": "stream",
     "text": [
      "Evaluating model...\n",
      "                        precision    recall  f1-score   support\n",
      "\n",
      "               message       0.86      0.93      0.89      5941\n",
      "              original       0.77      0.58      0.66      1333\n",
      "                 genre       0.00      0.00      0.00        34\n",
      "               related       0.75      0.68      0.71      3286\n",
      "               request       0.65      0.24      0.35       644\n",
      "                 offer       0.70      0.27      0.39       414\n",
      "           aid_related       0.76      0.13      0.23       239\n",
      "          medical_help       0.00      0.00      0.00       156\n",
      "      medical_products       0.63      0.26      0.37       267\n",
      "     search_and_rescue       0.75      0.60      0.67       512\n",
      "              security       0.80      0.70      0.75       878\n",
      "              military       0.79      0.54      0.64       714\n",
      "           child_alone       0.81      0.36      0.50       123\n",
      "                 water       0.64      0.20      0.30       192\n",
      "                  food       0.59      0.15      0.24        88\n",
      "               shelter       0.62      0.18      0.28       259\n",
      "              clothing       0.79      0.42      0.55       369\n",
      "                 money       0.52      0.16      0.24      1021\n",
      "        missing_people       0.39      0.05      0.09       521\n",
      "              refugees       0.70      0.19      0.30       362\n",
      "                 death       0.75      0.36      0.48       430\n",
      "             other_aid       0.71      0.28      0.40       148\n",
      "infrastructure_related       0.00      0.00      0.00        46\n",
      "             transport       0.33      0.01      0.02        90\n",
      "             buildings       0.00      0.00      0.00        39\n",
      "           electricity       1.00      0.01      0.02        86\n",
      "                 tools       0.34      0.03      0.06       350\n",
      "             hospitals       0.84      0.72      0.77      2188\n",
      "                 shops       0.90      0.56      0.69       639\n",
      "           aid_centers       0.75      0.59      0.66       744\n",
      "  other_infrastructure       0.65      0.23      0.34        88\n",
      "       weather_related       0.89      0.74      0.81       734\n",
      "                floods       0.76      0.32      0.45       169\n",
      "                 storm       0.60      0.11      0.18       388\n",
      "                  fire       0.71      0.49      0.58      1547\n",
      "\n",
      "           avg / total       0.75      0.59      0.64     25039\n",
      "\n",
      "Saving model...\n",
      "    MODEL: test.pkl\n",
      "Trained model saved!\n"
     ]
    },
    {
     "name": "stderr",
     "output_type": "stream",
     "text": [
      "/Users/zhitao.wang/Applications/anaconda3/lib/python3.6/site-packages/sklearn/metrics/classification.py:1428: UserWarning: labels size, 35, does not match size of target_names, 39\n",
      "  .format(len(labels), len(target_names))\n",
      "/Users/zhitao.wang/Applications/anaconda3/lib/python3.6/site-packages/sklearn/metrics/classification.py:1135: UndefinedMetricWarning: Precision and F-score are ill-defined and being set to 0.0 in labels with no predicted samples.\n",
      "  'precision', 'predicted', average, warn_for)\n"
     ]
    }
   ],
   "source": [
    "import sys\n",
    "import pandas as pd\n",
    "import numpy as np\n",
    "import sqlite3\n",
    "import re\n",
    "import pickle\n",
    "import nltk\n",
    "from nltk.corpus import stopwords\n",
    "from nltk.tokenize import word_tokenize\n",
    "from nltk.stem import WordNetLemmatizer\n",
    "from sklearn.feature_extraction.text import CountVectorizer\n",
    "from sklearn.feature_extraction.text import TfidfTransformer\n",
    "from sklearn.feature_extraction.text import TfidfVectorizer\n",
    "from sklearn.metrics import confusion_matrix\n",
    "from sklearn.model_selection import train_test_split\n",
    "from sklearn.ensemble import RandomForestClassifier, GradientBoostingClassifier\n",
    "from sklearn.svm import SVC, LinearSVC\n",
    "from sklearn.multioutput import MultiOutputClassifier\n",
    "from sklearn.metrics import accuracy_score, f1_score, precision_score, recall_score, classification_report, make_scorer\n",
    "from sklearn.pipeline import Pipeline, FeatureUnion\n",
    "from sklearn.model_selection import GridSearchCV, cross_val_score\n",
    "from sklearn.preprocessing import StandardScaler\n",
    "\n",
    "def load_data(database_filepath):\n",
    "    '''\n",
    "    Usage: load data from database\n",
    "    Args: file path to the database\n",
    "    Return: X - dataframe of features\n",
    "            y - dataframe of labels\n",
    "    '''\n",
    "    db_name = database_filepath\n",
    "    tbl_name = 'msg_cat'\n",
    "    print('Opening connection.')\n",
    "    conn = sqlite3.connect(db_name)\n",
    "    # get a cursor\n",
    "    cur = conn.cursor()\n",
    "    cmd = \"SELECT * FROM \" + tbl_name\n",
    "    print('Reading data from table \"{}\" in the database \"{}\".'.format(tbl_name, db_name))\n",
    "    df = pd.read_sql(cmd, con = conn)\n",
    "    df.set_index('id', inplace = True)\n",
    "    conn.commit()\n",
    "    conn.close()\n",
    "    print('Connection is closed.')\n",
    "    feature_columns = ['message', 'original', 'genre', 'child_alone']\n",
    "    X = df['message'].values\n",
    "    y = df.drop(labels = feature_columns, axis = 1).values\n",
    "    category_names = df.columns.values\n",
    "    return X, y, category_names\n",
    "\n",
    "\n",
    "def tokenize(text):\n",
    "    ''' Usage: normalize case and remove punctuation\n",
    "        Args: text string\n",
    "        Return: text tokens\n",
    "    ''' \n",
    "    text = re.sub(r\"[^a-zA-Z]\", \" \", text.lower())\n",
    "    \n",
    "    # tokenize text\n",
    "    tokens = word_tokenize(text)\n",
    "    \n",
    "    # Remove stop words\n",
    "    tokens = [w for w in tokens if w not in stopwords.words(\"english\")]\n",
    "    \n",
    "    # Reduce words to their root form\n",
    "    tokens = [WordNetLemmatizer().lemmatize(token).strip() for token in tokens]\n",
    "\n",
    "    return tokens\n",
    "\n",
    "\n",
    "def build_model():\n",
    "    \"\"\"\n",
    "    Usage: builds classification model \n",
    "    Args:\n",
    "    Return: the optimized model\n",
    "    \"\"\"\n",
    "    pipeline = Pipeline([\n",
    "        ('features', FeatureUnion([\n",
    "            ('text_pipeline', Pipeline([\n",
    "                ('vect', CountVectorizer(tokenizer=tokenize)),\n",
    "                ('tfidf', TfidfTransformer())\n",
    "            ]))\n",
    "        ])),\n",
    "        ('clf', MultiOutputClassifier(LinearSVC()))\n",
    "    ])\n",
    "    \n",
    "    parameters = {\n",
    "        'features__text_pipeline__vect__max_df': [0.2],\n",
    "        'features__text_pipeline__vect__max_features': [None],\n",
    "        'clf__estimator__C': [0.5],\n",
    "        'clf__estimator__intercept_scaling': [1.5]\n",
    "    }\n",
    "\n",
    "    cv = GridSearchCV(pipeline, param_grid=parameters, n_jobs = 2, verbose = 2)\n",
    "    return cv\n",
    "\n",
    "def evaluate_model(model, X_test, y_test, target_names, metrics = None):\n",
    "    '''\n",
    "        Usage: show metrics with options of accuracy, f1, precision, recall scores.\n",
    "        Args: y_test, y_pred - actual label values, predicted labels\n",
    "               target_names - a list of labels\n",
    "               metrics - available options ['accuracy', 'f1', 'precision', 'recall']\n",
    "                         other option: show f1, precision, recall all together.\n",
    "    '''\n",
    "    \n",
    "    y_pred = model.predict(X_test)\n",
    "    \n",
    "    for idx_col in range(y_test.shape[1]):\n",
    "        if metrics == 'accuracy':\n",
    "            # accuracy score\n",
    "            print(\"The accuracy score for column {}: {}\" \\\n",
    "                  .format(target_names[idx_col], accuracy_score(y_test[:, idx_col], y_pred[:, idx_col])))\n",
    "        elif metrics == 'f1':\n",
    "            # f1 score\n",
    "            print(\"The f1 score for column {}: {}\" \\\n",
    "                  .format(target_names[idx_col], f1_score(y_test[:, idx_col], y_pred[:, idx_col])))\n",
    "        elif metrics == 'precision':\n",
    "            # precision\n",
    "            print(\"The precision score for column {}: {}\" \\\n",
    "                  .format(target_names[idx_col], precision_score(y_test[:, idx_col], y_pred[:, idx_col])))\n",
    "        elif metrics == 'recall':\n",
    "            # precision\n",
    "            print(\"The recall score for column {}: {}\" \\\n",
    "                  .format(target_names[idx_col], recall_score(y_test[:, idx_col], y_pred[:, idx_col])))\n",
    "        else:\n",
    "            print(classification_report(y_test, y_pred, target_names = target_names))\n",
    "            break\n",
    "\n",
    "\n",
    "def save_model(model, model_filepath):\n",
    "    \"\"\"\n",
    "    Usage: Save the model to a Python pickle\n",
    "    Args:\n",
    "        model: Trained model\n",
    "        model_filepath: Path where to save the model\n",
    "    \"\"\"\n",
    "    pickle.dump(model, open(model_filepath, 'wb'))\n",
    "\n",
    "\n",
    "def main():\n",
    "    if len(sys.argv) == 3:\n",
    "        database_filepath, model_filepath = sys.argv[1:]\n",
    "        print('Loading data...\\n    DATABASE: {}'.format(database_filepath))\n",
    "        X, Y, category_names = load_data(database_filepath)\n",
    "        # drop child_alone category in the label set\n",
    "        #Y.drop(labels = 'child_alone', axis = 1, inplace = True)\n",
    "        X_train, X_test, Y_train, Y_test = train_test_split(X, Y, test_size = 0.3, random_state = 42)\n",
    "        \n",
    "        print('Building model...')\n",
    "        model = build_model()\n",
    "        \n",
    "        print('Training model...')\n",
    "        model.fit(X_train, Y_train)\n",
    "        \n",
    "        print('Evaluating model...')\n",
    "        evaluate_model(model, X_test, Y_test, category_names)\n",
    "\n",
    "        print('Saving model...\\n    MODEL: {}'.format(model_filepath))\n",
    "        save_model(model, model_filepath)\n",
    "\n",
    "        print('Trained model saved!')\n",
    "\n",
    "    else:\n",
    "        print('Please provide the filepath of the disaster messages database '\\\n",
    "              'as the first argument and the filepath of the pickle file to '\\\n",
    "              'save the model to as the second argument. \\n\\nExample: python '\\\n",
    "              'train_classifier.py ../data/DisasterResponse.db classifier.pkl')\n",
    "\n",
    "\n",
    "if __name__ == '__main__':\n",
    "    main()"
   ]
  },
  {
   "cell_type": "code",
   "execution_count": null,
   "metadata": {},
   "outputs": [],
   "source": []
  }
 ],
 "metadata": {
  "kernelspec": {
   "display_name": "Python 3",
   "language": "python",
   "name": "python3"
  },
  "language_info": {
   "codemirror_mode": {
    "name": "ipython",
    "version": 3
   },
   "file_extension": ".py",
   "mimetype": "text/x-python",
   "name": "python",
   "nbconvert_exporter": "python",
   "pygments_lexer": "ipython3",
   "version": "3.6.5"
  }
 },
 "nbformat": 4,
 "nbformat_minor": 2
}
